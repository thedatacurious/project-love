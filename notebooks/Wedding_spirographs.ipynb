{
 "cells": [
  {
   "cell_type": "code",
   "execution_count": 6,
   "metadata": {},
   "outputs": [],
   "source": [
    "library(paletteer)\n",
    "library(spiro)\n",
    "library(magrittr)"
   ]
  },
  {
   "cell_type": "code",
   "execution_count": 7,
   "metadata": {},
   "outputs": [],
   "source": [
    "wedding = read.csv('../data/raw/wedding_playlist.csv', stringsAsFactors = FALSE)\n",
    "top2018 = read.csv('../data/raw/top2018hits_playlist.csv', stringsAsFactors = FALSE)\n",
    "broken = read.csv('../data/raw/broken_heart_playlist.csv', stringsAsFactors = FALSE)"
   ]
  },
  {
   "cell_type": "code",
   "execution_count": 51,
   "metadata": {},
   "outputs": [
    {
     "data": {
      "text/plain": [
       "    artist          album_title         album_uri         track_title       \n",
       " Length:50          Length:50          Length:50          Length:50         \n",
       " Class :character   Class :character   Class :character   Class :character  \n",
       " Mode  :character   Mode  :character   Mode  :character   Mode  :character  \n",
       "                                                                            \n",
       "                                                                            \n",
       "                                                                            \n",
       "   track_id         release_date        danceability        energy      \n",
       " Length:50          Length:50          Min.   :0.1650   Min.   :0.1290  \n",
       " Class :character   Class :character   1st Qu.:0.4963   1st Qu.:0.3033  \n",
       " Mode  :character   Mode  :character   Median :0.6395   Median :0.5850  \n",
       "                                       Mean   :0.6123   Mean   :0.5527  \n",
       "                                       3rd Qu.:0.7135   3rd Qu.:0.7668  \n",
       "                                       Max.   :0.9120   Max.   :0.9700  \n",
       "      key           loudness            mode       speechiness     \n",
       " Min.   : 0.00   Min.   :-21.041   Min.   :0.00   Min.   :0.02540  \n",
       " 1st Qu.: 2.00   1st Qu.: -9.011   1st Qu.:1.00   1st Qu.:0.03165  \n",
       " Median : 5.00   Median : -6.926   Median :1.00   Median :0.03650  \n",
       " Mean   : 4.58   Mean   : -7.844   Mean   :0.84   Mean   :0.05517  \n",
       " 3rd Qu.: 7.00   3rd Qu.: -5.465   3rd Qu.:1.00   3rd Qu.:0.04643  \n",
       " Max.   :11.00   Max.   : -2.206   Max.   :1.00   Max.   :0.29600  \n",
       "  acousticness     instrumentalness       liveness          valence      \n",
       " Min.   :0.00249   Min.   :0.000e+00   Min.   :0.03440   Min.   :0.0997  \n",
       " 1st Qu.:0.06327   1st Qu.:0.000e+00   1st Qu.:0.08785   1st Qu.:0.3365  \n",
       " Median :0.29050   Median :1.930e-06   Median :0.10950   Median :0.5350  \n",
       " Mean   :0.36415   Mean   :3.233e-03   Mean   :0.14419   Mean   :0.5645  \n",
       " 3rd Qu.:0.63825   3rd Qu.:2.738e-04   3rd Qu.:0.17575   3rd Qu.:0.8460  \n",
       " Max.   :0.97700   Max.   :1.290e-01   Max.   :0.57700   Max.   :0.9800  \n",
       "     tempo            type                id                uri           \n",
       " Min.   : 71.77   Length:50          Length:50          Length:50         \n",
       " 1st Qu.:100.14   Class :character   Class :character   Class :character  \n",
       " Median :119.03   Mode  :character   Mode  :character   Mode  :character  \n",
       " Mean   :119.15                                                           \n",
       " 3rd Qu.:136.08                                                           \n",
       " Max.   :193.44                                                           \n",
       "  track_href        analysis_url        duration_ms     time_signature\n",
       " Length:50          Length:50          Min.   :148707   Min.   :1.00  \n",
       " Class :character   Class :character   1st Qu.:191823   1st Qu.:4.00  \n",
       " Mode  :character   Mode  :character   Median :220892   Median :4.00  \n",
       "                                       Mean   :223360   Mean   :3.84  \n",
       "                                       3rd Qu.:246117   3rd Qu.:4.00  \n",
       "                                       Max.   :369627   Max.   :5.00  "
      ]
     },
     "metadata": {},
     "output_type": "display_data"
    }
   ],
   "source": [
    "summary(wedding)"
   ]
  },
  {
   "cell_type": "code",
   "execution_count": 12,
   "metadata": {},
   "outputs": [],
   "source": [
    "cupcake_creator <- function(valence, energy, genre){\n",
    "    \n",
    "valence = as.integer(round(100*valence,0))\n",
    "c = paletteer_c(package = \"pals\", palette = \"ocean.curl\", n = 100)[valence]\n",
    "t = 0.8\n",
    "    \n",
    "d <- spiro(radius = 1, transparency = t,\n",
    "  fixed_radius = 3,\n",
    "  cycling_radius = 1 ,\n",
    "  pen_radius = 2,\n",
    "    colors = c\n",
    ")  %>% image_scale(scale = 0.8)\n",
    "\n",
    "d2 <- spiro(transparency = t, rotation = 12/180*pi,\n",
    "  fixed_radius = 3,\n",
    "  cycling_radius = 1 ,\n",
    "  pen_radius = 2,\n",
    "    colors = c\n",
    ") %>% image_scale(scale = 0.2)\n",
    "\n",
    "d3 <- spiro(transparency = t, rotation = 12/180*pi*2,\n",
    "  fixed_radius = 3,\n",
    "  cycling_radius = 1 ,\n",
    "  pen_radius = 2,\n",
    "    colors = c\n",
    ") %>% image_scale(scale = 0.8)\n",
    "\n",
    "d4 <- spiro(transparency = t, rotation = 12/180*pi*3,\n",
    "  fixed_radius = 3,\n",
    "  cycling_radius = 1 ,\n",
    "  pen_radius = 2,\n",
    "    colors = c\n",
    ") %>% image_scale(scale = 0.8)\n",
    "\n",
    "d5 <- spiro(transparency = t, rotation = 12/180*pi*4,\n",
    "  fixed_radius = 3,\n",
    "  cycling_radius = 1 ,\n",
    "  pen_radius = 2,\n",
    "    colors = c\n",
    ") %>% image_scale(scale = 0.8)\n",
    "\n",
    "d6 <- spiro(transparency = t, rotation = 12/180*pi*5,\n",
    "  fixed_radius = 3,\n",
    "  cycling_radius = 1 ,\n",
    "  pen_radius = 2,\n",
    "    colors = c\n",
    ") %>% image_scale(scale = 0.8)\n",
    "\n",
    "d7 <- spiro(transparency = t, rotation = 12/180*pi*6,\n",
    "  fixed_radius = 3,\n",
    "  cycling_radius = 1 ,\n",
    "  pen_radius = 2,\n",
    "    colors = c\n",
    ") %>% image_scale(scale = 0.8)\n",
    "\n",
    "d8 <- spiro(transparency = t, rotation = 12/180*pi*7,\n",
    "  fixed_radius = 3,\n",
    "  cycling_radius = 1 ,\n",
    "  pen_radius = 2,\n",
    "    colors = c\n",
    ") %>% image_scale(scale = 0.8)\n",
    "\n",
    "d9 <- spiro(transparency = t, rotation = 12/180*pi*78,\n",
    "  fixed_radius = 3,\n",
    "  cycling_radius = 1 ,\n",
    "  pen_radius = 2,\n",
    "    colors = c\n",
    ") %>% image_scale(scale = 0.8)\n",
    "\n",
    "d10 <- spiro(transparency = t, rotation = 12/180*pi*9,\n",
    "  fixed_radius = 3,\n",
    "  cycling_radius = 1 ,\n",
    "  pen_radius = 2,\n",
    "    colors = c\n",
    ") %>% image_scale(scale = 0.8)    \n",
    "    \n",
    "\n",
    "    if(energy <= 0.1){d_list = d}\n",
    "    else if(energy <= 0.2){d_list = c(d,d2)}\n",
    "    else if(energy > 0.2 & energy <= 0.3){d_list = c(d,d2,d3)}\n",
    "    else if(energy > 0.3 & energy <= 0.4){d_list = c(d,d2,d3,d4)}\n",
    "    else if(energy > 0.4 & energy <= 0.5){d_list = c(d,d2,d3,d4,d5)}\n",
    "    else if(energy > 0.5 & energy <= 0.6){d_list = c(d,d2,d3,d4,d5,d6)}\n",
    "    else if(energy > 0.6 & energy <= 0.7){d_list = c(d,d2,d3,d4,d5,d6,d7)}\n",
    "    else if(energy > 0.7 & energy <= 0.8){d_list = c(d,d2,d3,d4,d5,d6,d7,d8)}\n",
    "    else if(energy > 0.8 & energy <= 0.9){d_list = c(d,d2,d3,d4,d5,d6,d7,d8,d9)}\n",
    "    else {d_list = c(d,d2,d3,d4,d5,d6,d7,d8,d9,d10)}\n",
    "\n",
    "indie = spiro(\n",
    "  fixed_radius = 121,\n",
    "  cycling_radius = 20,\n",
    "  pen_radius = 80,\n",
    "  color_groups = 1,\n",
    "  color_cycles = 1,\n",
    "  points_per_polygon = 10000,\n",
    "  colors = \"black\"\n",
    "  ) %>% image_scale(scale = 0.15)\n",
    "        \n",
    "dance = spiro(\n",
    "  fixed_radius = 121,\n",
    "  cycling_radius = 100,\n",
    "  pen_radius = 13,\n",
    "  color_groups = 1,\n",
    "  color_cycles = 1,\n",
    "  points_per_polygon = 200,\n",
    "  colors = \"black\"\n",
    "  ) %>% image_scale(scale = 0.15)\n",
    "\n",
    "hiphop  = spiro(\n",
    "  fixed_radius = 121,\n",
    "  cycling_radius = 50,\n",
    "  pen_radius = 80,\n",
    "  color_groups = 1,\n",
    "  color_cycles = 1,\n",
    "  points_per_polygon = 200,\n",
    "  colors = \"black\"\n",
    "  ) %>% image_scale(scale = 0.15)\n",
    "        \n",
    "soul = spiro(\n",
    "  fixed_radius = 121,\n",
    "  cycling_radius = 80,\n",
    "  pen_radius = 50,\n",
    "  color_groups = 1,\n",
    "  color_cycles = 1,\n",
    "  points_per_polygon = 500,\n",
    "  colors = \"black\"\n",
    "  ) %>% image_scale(scale = 0.15)\n",
    "\n",
    "pop = spiro(\n",
    "  fixed_radius = 121,\n",
    "  cycling_radius = 18,\n",
    "  pen_radius = 95,\n",
    "  color_groups = 1,\n",
    "  color_cycles = 1,\n",
    "  points_per_polygon = 180,\n",
    "  colors = \"black\"\n",
    "  ) %>% image_scale(scale = 0.15)\n",
    "        \n",
    "c(d_list,genre) %>% image_merge(output = \"new_cupcake.svg\")\n",
    "}"
   ]
  },
  {
   "cell_type": "code",
   "execution_count": 103,
   "metadata": {},
   "outputs": [
    {
     "name": "stderr",
     "output_type": "stream",
     "text": [
      "Warning message in graphics::par(mar = rep(0, 4), ...):\n",
      "“\"radius\" is not a graphical parameter”Adding missing grouping variables: `color_cycle_id`, `color_id`\n",
      "Warning message in .f(color_cycle_id = .l[[1L]][[1L]], color_id = .l[[2L]][[1L]], :\n",
      "“\"color_cycle_id\" is not a graphical parameter”Warning message in .f(color_cycle_id = .l[[1L]][[1L]], color_id = .l[[2L]][[1L]], :\n",
      "“\"color_id\" is not a graphical parameter”Adding missing grouping variables: `color_cycle_id`, `color_id`\n",
      "Warning message in .f(color_cycle_id = .l[[1L]][[1L]], color_id = .l[[2L]][[1L]], :\n",
      "“\"color_cycle_id\" is not a graphical parameter”Warning message in .f(color_cycle_id = .l[[1L]][[1L]], color_id = .l[[2L]][[1L]], :\n",
      "“\"color_id\" is not a graphical parameter”Adding missing grouping variables: `color_cycle_id`, `color_id`\n",
      "Warning message in .f(color_cycle_id = .l[[1L]][[1L]], color_id = .l[[2L]][[1L]], :\n",
      "“\"color_cycle_id\" is not a graphical parameter”Warning message in .f(color_cycle_id = .l[[1L]][[1L]], color_id = .l[[2L]][[1L]], :\n",
      "“\"color_id\" is not a graphical parameter”Adding missing grouping variables: `color_cycle_id`, `color_id`\n",
      "Warning message in .f(color_cycle_id = .l[[1L]][[1L]], color_id = .l[[2L]][[1L]], :\n",
      "“\"color_cycle_id\" is not a graphical parameter”Warning message in .f(color_cycle_id = .l[[1L]][[1L]], color_id = .l[[2L]][[1L]], :\n",
      "“\"color_id\" is not a graphical parameter”Adding missing grouping variables: `color_cycle_id`, `color_id`\n",
      "Warning message in .f(color_cycle_id = .l[[1L]][[1L]], color_id = .l[[2L]][[1L]], :\n",
      "“\"color_cycle_id\" is not a graphical parameter”Warning message in .f(color_cycle_id = .l[[1L]][[1L]], color_id = .l[[2L]][[1L]], :\n",
      "“\"color_id\" is not a graphical parameter”Adding missing grouping variables: `color_cycle_id`, `color_id`\n",
      "Warning message in .f(color_cycle_id = .l[[1L]][[1L]], color_id = .l[[2L]][[1L]], :\n",
      "“\"color_cycle_id\" is not a graphical parameter”Warning message in .f(color_cycle_id = .l[[1L]][[1L]], color_id = .l[[2L]][[1L]], :\n",
      "“\"color_id\" is not a graphical parameter”Adding missing grouping variables: `color_cycle_id`, `color_id`\n",
      "Warning message in .f(color_cycle_id = .l[[1L]][[1L]], color_id = .l[[2L]][[1L]], :\n",
      "“\"color_cycle_id\" is not a graphical parameter”Warning message in .f(color_cycle_id = .l[[1L]][[1L]], color_id = .l[[2L]][[1L]], :\n",
      "“\"color_id\" is not a graphical parameter”Adding missing grouping variables: `color_cycle_id`, `color_id`\n",
      "Warning message in .f(color_cycle_id = .l[[1L]][[1L]], color_id = .l[[2L]][[1L]], :\n",
      "“\"color_cycle_id\" is not a graphical parameter”Warning message in .f(color_cycle_id = .l[[1L]][[1L]], color_id = .l[[2L]][[1L]], :\n",
      "“\"color_id\" is not a graphical parameter”Adding missing grouping variables: `color_cycle_id`, `color_id`\n",
      "Warning message in .f(color_cycle_id = .l[[1L]][[1L]], color_id = .l[[2L]][[1L]], :\n",
      "“\"color_cycle_id\" is not a graphical parameter”Warning message in .f(color_cycle_id = .l[[1L]][[1L]], color_id = .l[[2L]][[1L]], :\n",
      "“\"color_id\" is not a graphical parameter”Adding missing grouping variables: `color_cycle_id`, `color_id`\n",
      "Warning message in .f(color_cycle_id = .l[[1L]][[1L]], color_id = .l[[2L]][[1L]], :\n",
      "“\"color_cycle_id\" is not a graphical parameter”Warning message in .f(color_cycle_id = .l[[1L]][[1L]], color_id = .l[[2L]][[1L]], :\n",
      "“\"color_id\" is not a graphical parameter”Adding missing grouping variables: `color_cycle_id`, `color_id`\n",
      "Warning message in .f(color_cycle_id = .l[[1L]][[1L]], color_id = .l[[2L]][[1L]], :\n",
      "“\"color_cycle_id\" is not a graphical parameter”Warning message in .f(color_cycle_id = .l[[1L]][[1L]], color_id = .l[[2L]][[1L]], :\n",
      "“\"color_id\" is not a graphical parameter”Adding missing grouping variables: `color_cycle_id`, `color_id`\n",
      "Warning message in .f(color_cycle_id = .l[[1L]][[1L]], color_id = .l[[2L]][[1L]], :\n",
      "“\"color_cycle_id\" is not a graphical parameter”Warning message in .f(color_cycle_id = .l[[1L]][[1L]], color_id = .l[[2L]][[1L]], :\n",
      "“\"color_id\" is not a graphical parameter”Adding missing grouping variables: `color_cycle_id`, `color_id`\n",
      "Warning message in .f(color_cycle_id = .l[[1L]][[1L]], color_id = .l[[2L]][[1L]], :\n",
      "“\"color_cycle_id\" is not a graphical parameter”Warning message in .f(color_cycle_id = .l[[1L]][[1L]], color_id = .l[[2L]][[1L]], :\n",
      "“\"color_id\" is not a graphical parameter”Adding missing grouping variables: `color_cycle_id`, `color_id`\n",
      "Warning message in .f(color_cycle_id = .l[[1L]][[1L]], color_id = .l[[2L]][[1L]], :\n",
      "“\"color_cycle_id\" is not a graphical parameter”Warning message in .f(color_cycle_id = .l[[1L]][[1L]], color_id = .l[[2L]][[1L]], :\n",
      "“\"color_id\" is not a graphical parameter”Adding missing grouping variables: `color_cycle_id`, `color_id`\n",
      "Warning message in .f(color_cycle_id = .l[[1L]][[1L]], color_id = .l[[2L]][[1L]], :\n",
      "“\"color_cycle_id\" is not a graphical parameter”Warning message in .f(color_cycle_id = .l[[1L]][[1L]], color_id = .l[[2L]][[1L]], :\n",
      "“\"color_id\" is not a graphical parameter”"
     ]
    }
   ],
   "source": [
    "cupcake_creator(valence = 0.867, energy = 0.824, genre = pop)"
   ]
  },
  {
   "cell_type": "code",
   "execution_count": 65,
   "metadata": {},
   "outputs": [
    {
     "data": {
      "text/html": [
       "60"
      ],
      "text/latex": [
       "60"
      ],
      "text/markdown": [
       "60"
      ],
      "text/plain": [
       "[1] 60"
      ]
     },
     "metadata": {},
     "output_type": "display_data"
    }
   ],
   "source": [
    "as.integer(round(100*0.599,0))"
   ]
  },
  {
   "cell_type": "code",
   "execution_count": 15,
   "metadata": {
    "scrolled": true
   },
   "outputs": [],
   "source": [
    "#spiro(draw_fills = F,\n",
    "#  fixed_radius = 800,\n",
    "#  cycling_radius = 677,\n",
    "#  pen_radius = 805,\n",
    "#  color_groups = 10,\n",
    "# color_cycles = 10, windings = 677*2,\n",
    "#  points_per_polygon = 30,\n",
    "#  colors = paletteer_c(package = \"pals\", palette = \"ocean.curl\", n = 100)[81:90])"
   ]
  },
  {
   "cell_type": "code",
   "execution_count": 11,
   "metadata": {},
   "outputs": [],
   "source": [
    "#spiro(file = \"wrapper.svg\",\n",
    "#  fixed_radius = 800,\n",
    "#  cycling_radius = 677,\n",
    "#  pen_radius = 805,\n",
    "#  color_groups = 10,\n",
    "#  color_cycles = 10, windings = 677*2,\n",
    "#  points_per_polygon = 30,\n",
    "#  colors = paletteer_c(package = \"ggthemes\", palette = \"Gray\", n = 100)[91:100])"
   ]
  },
  {
   "cell_type": "code",
   "execution_count": 12,
   "metadata": {},
   "outputs": [],
   "source": [
    "base_colors = c(\"#FFF2B8\", \"#FFE49C\", \"#ECCA90\")"
   ]
  },
  {
   "cell_type": "code",
   "execution_count": 14,
   "metadata": {},
   "outputs": [
    {
     "name": "stderr",
     "output_type": "stream",
     "text": [
      "Adding missing grouping variables: `color_cycle_id`, `color_id`\n",
      "Warning message in .f(color_cycle_id = .l[[1L]][[1L]], color_id = .l[[2L]][[1L]], :\n",
      "“\"color_cycle_id\" is not a graphical parameter”Warning message in .f(color_cycle_id = .l[[1L]][[1L]], color_id = .l[[2L]][[1L]], :\n",
      "“\"color_id\" is not a graphical parameter”"
     ]
    }
   ],
   "source": [
    "dance = spiro(\n",
    "  fixed_radius = 121,\n",
    "  cycling_radius = 100,\n",
    "  pen_radius = 13,\n",
    "  color_groups = 1,\n",
    "  color_cycles = 1,\n",
    "  points_per_polygon = 200,\n",
    "  colors = \"black\"\n",
    "  ) %>% image_scale(scale = 0.15)"
   ]
  },
  {
   "cell_type": "code",
   "execution_count": 75,
   "metadata": {},
   "outputs": [
    {
     "name": "stderr",
     "output_type": "stream",
     "text": [
      "Adding missing grouping variables: `color_cycle_id`, `color_id`\n",
      "Warning message in .f(color_cycle_id = .l[[1L]][[1L]], color_id = .l[[2L]][[1L]], :\n",
      "“\"color_cycle_id\" is not a graphical parameter”Warning message in .f(color_cycle_id = .l[[1L]][[1L]], color_id = .l[[2L]][[1L]], :\n",
      "“\"color_id\" is not a graphical parameter”"
     ]
    }
   ],
   "source": [
    "indie = spiro(\n",
    "  fixed_radius = 121,\n",
    "  cycling_radius = 20,\n",
    "  pen_radius = 80,\n",
    "  color_groups = 1,\n",
    "  color_cycles = 1,\n",
    "  points_per_polygon = 10000,\n",
    "  colors = \"black\"\n",
    "  ) %>% image_scale(scale = 0.15)"
   ]
  },
  {
   "cell_type": "code",
   "execution_count": 76,
   "metadata": {},
   "outputs": [
    {
     "name": "stderr",
     "output_type": "stream",
     "text": [
      "Adding missing grouping variables: `color_cycle_id`, `color_id`\n",
      "Warning message in .f(color_cycle_id = .l[[1L]][[1L]], color_id = .l[[2L]][[1L]], :\n",
      "“\"color_cycle_id\" is not a graphical parameter”Warning message in .f(color_cycle_id = .l[[1L]][[1L]], color_id = .l[[2L]][[1L]], :\n",
      "“\"color_id\" is not a graphical parameter”"
     ]
    }
   ],
   "source": [
    "hiphop  = spiro(\n",
    "  fixed_radius = 121,\n",
    "  cycling_radius = 50,\n",
    "  pen_radius = 80,\n",
    "  color_groups = 1,\n",
    "  color_cycles = 1,\n",
    "  points_per_polygon = 200,\n",
    "  colors = \"black\"\n",
    "  ) %>% image_scale(scale = 0.15)"
   ]
  },
  {
   "cell_type": "code",
   "execution_count": 77,
   "metadata": {},
   "outputs": [
    {
     "name": "stderr",
     "output_type": "stream",
     "text": [
      "Adding missing grouping variables: `color_cycle_id`, `color_id`\n",
      "Warning message in .f(color_cycle_id = .l[[1L]][[1L]], color_id = .l[[2L]][[1L]], :\n",
      "“\"color_cycle_id\" is not a graphical parameter”Warning message in .f(color_cycle_id = .l[[1L]][[1L]], color_id = .l[[2L]][[1L]], :\n",
      "“\"color_id\" is not a graphical parameter”"
     ]
    }
   ],
   "source": [
    "soul = spiro(\n",
    "  fixed_radius = 121,\n",
    "  cycling_radius = 80,\n",
    "  pen_radius = 50,\n",
    "  color_groups = 1,\n",
    "  color_cycles = 1,\n",
    "  points_per_polygon = 500,\n",
    "  colors = \"black\"\n",
    "  ) %>% image_scale(scale = 0.15)"
   ]
  },
  {
   "cell_type": "code",
   "execution_count": 78,
   "metadata": {},
   "outputs": [
    {
     "name": "stderr",
     "output_type": "stream",
     "text": [
      "Adding missing grouping variables: `color_cycle_id`, `color_id`\n",
      "Warning message in .f(color_cycle_id = .l[[1L]][[1L]], color_id = .l[[2L]][[1L]], :\n",
      "“\"color_cycle_id\" is not a graphical parameter”Warning message in .f(color_cycle_id = .l[[1L]][[1L]], color_id = .l[[2L]][[1L]], :\n",
      "“\"color_id\" is not a graphical parameter”"
     ]
    }
   ],
   "source": [
    "pop = spiro(\n",
    "  fixed_radius = 121,\n",
    "  cycling_radius = 18,\n",
    "  pen_radius = 95,\n",
    "  color_groups = 1,\n",
    "  color_cycles = 1,\n",
    "  points_per_polygon = 180,\n",
    "  colors = \"black\"\n",
    "  ) %>% image_scale(scale = 0.15)\n"
   ]
  },
  {
   "cell_type": "code",
   "execution_count": 15,
   "metadata": {},
   "outputs": [
    {
     "name": "stderr",
     "output_type": "stream",
     "text": [
      "Adding missing grouping variables: `color_cycle_id`, `color_id`\n",
      "Warning message in .f(color_cycle_id = .l[[1L]][[1L]], color_id = .l[[2L]][[1L]], :\n",
      "“\"color_cycle_id\" is not a graphical parameter”Warning message in .f(color_cycle_id = .l[[1L]][[1L]], color_id = .l[[2L]][[1L]], :\n",
      "“\"color_id\" is not a graphical parameter”Adding missing grouping variables: `color_cycle_id`, `color_id`\n",
      "Warning message in .f(color_cycle_id = .l[[1L]][[1L]], color_id = .l[[2L]][[1L]], :\n",
      "“\"color_cycle_id\" is not a graphical parameter”Warning message in .f(color_cycle_id = .l[[1L]][[1L]], color_id = .l[[2L]][[1L]], :\n",
      "“\"color_id\" is not a graphical parameter”Adding missing grouping variables: `color_cycle_id`, `color_id`\n",
      "Warning message in .f(color_cycle_id = .l[[1L]][[1L]], color_id = .l[[2L]][[1L]], :\n",
      "“\"color_cycle_id\" is not a graphical parameter”Warning message in .f(color_cycle_id = .l[[1L]][[1L]], color_id = .l[[2L]][[1L]], :\n",
      "“\"color_id\" is not a graphical parameter”Adding missing grouping variables: `color_cycle_id`, `color_id`\n",
      "Warning message in .f(color_cycle_id = .l[[1L]][[1L]], color_id = .l[[2L]][[1L]], :\n",
      "“\"color_cycle_id\" is not a graphical parameter”Warning message in .f(color_cycle_id = .l[[1L]][[1L]], color_id = .l[[2L]][[1L]], :\n",
      "“\"color_id\" is not a graphical parameter”Adding missing grouping variables: `color_cycle_id`, `color_id`\n",
      "Warning message in .f(color_cycle_id = .l[[1L]][[1L]], color_id = .l[[2L]][[1L]], :\n",
      "“\"color_cycle_id\" is not a graphical parameter”Warning message in .f(color_cycle_id = .l[[1L]][[1L]], color_id = .l[[2L]][[1L]], :\n",
      "“\"color_id\" is not a graphical parameter”Adding missing grouping variables: `color_cycle_id`, `color_id`\n",
      "Warning message in .f(color_cycle_id = .l[[1L]][[1L]], color_id = .l[[2L]][[1L]], :\n",
      "“\"color_cycle_id\" is not a graphical parameter”Warning message in .f(color_cycle_id = .l[[1L]][[1L]], color_id = .l[[2L]][[1L]], :\n",
      "“\"color_id\" is not a graphical parameter”Adding missing grouping variables: `color_cycle_id`, `color_id`\n",
      "Warning message in .f(color_cycle_id = .l[[1L]][[1L]], color_id = .l[[2L]][[1L]], :\n",
      "“\"color_cycle_id\" is not a graphical parameter”Warning message in .f(color_cycle_id = .l[[1L]][[1L]], color_id = .l[[2L]][[1L]], :\n",
      "“\"color_id\" is not a graphical parameter”Adding missing grouping variables: `color_cycle_id`, `color_id`\n",
      "Warning message in .f(color_cycle_id = .l[[1L]][[1L]], color_id = .l[[2L]][[1L]], :\n",
      "“\"color_cycle_id\" is not a graphical parameter”Warning message in .f(color_cycle_id = .l[[1L]][[1L]], color_id = .l[[2L]][[1L]], :\n",
      "“\"color_id\" is not a graphical parameter”Adding missing grouping variables: `color_cycle_id`, `color_id`\n",
      "Warning message in .f(color_cycle_id = .l[[1L]][[1L]], color_id = .l[[2L]][[1L]], :\n",
      "“\"color_cycle_id\" is not a graphical parameter”Warning message in .f(color_cycle_id = .l[[1L]][[1L]], color_id = .l[[2L]][[1L]], :\n",
      "“\"color_id\" is not a graphical parameter”Adding missing grouping variables: `color_cycle_id`, `color_id`\n",
      "Warning message in .f(color_cycle_id = .l[[1L]][[1L]], color_id = .l[[2L]][[1L]], :\n",
      "“\"color_cycle_id\" is not a graphical parameter”Warning message in .f(color_cycle_id = .l[[1L]][[1L]], color_id = .l[[2L]][[1L]], :\n",
      "“\"color_id\" is not a graphical parameter”"
     ]
    }
   ],
   "source": [
    "t = 0.8\n",
    "l = '#C0C0C0'\n",
    "w = 1\n",
    "\n",
    "d <- spiro(transparency = t,\n",
    "  fixed_radius = 3,\n",
    "  cycling_radius = 1 ,\n",
    "  pen_radius = 2,\n",
    "colors = c\n",
    ")  %>% add_lines(\n",
    "    colors = l,\n",
    "    line_width = w) %>% image_scale(scale = 0.8)\n",
    "\n",
    "d2 <- spiro(transparency = t, rotation = 12/180*pi,\n",
    "  fixed_radius = 3,\n",
    "  cycling_radius = 1 ,\n",
    "  pen_radius = 2,\n",
    "    colors = c\n",
    ") %>% add_lines(\n",
    "    colors = l,\n",
    "    line_width = w) %>% image_scale(scale = 0.8)\n",
    "\n",
    "d3 <- spiro(transparency = t, rotation = 12/180*pi*2,\n",
    "  fixed_radius = 3,\n",
    "  cycling_radius = 1 ,\n",
    "  pen_radius = 2,\n",
    "    colors = c\n",
    ") %>% add_lines(\n",
    "    colors = l,\n",
    "    line_width = w) %>% image_scale(scale = 0.8)\n",
    "\n",
    "d4 <- spiro(transparency = t, rotation = 12/180*pi*3,\n",
    "  fixed_radius = 3,\n",
    "  cycling_radius = 1 ,\n",
    "  pen_radius = 2,\n",
    "    colors = c\n",
    ") %>% add_lines(\n",
    "    colors = l,\n",
    "    line_width = w) %>% image_scale(scale = 0.8)\n",
    "\n",
    "d5 <- spiro(transparency = t, rotation = 12/180*pi*4,\n",
    "  fixed_radius = 3,\n",
    "  cycling_radius = 1 ,\n",
    "  pen_radius = 2,\n",
    "    colors = c\n",
    ") %>% add_lines(\n",
    "    colors = l,\n",
    "    line_width = w) %>% image_scale(scale = 0.8)\n",
    "\n",
    "d6 <- spiro(transparency = t, rotation = 12/180*pi*5,\n",
    "  fixed_radius = 3,\n",
    "  cycling_radius = 1 ,\n",
    "  pen_radius = 2,\n",
    "    colors = c\n",
    ") %>% add_lines(\n",
    "    colors = l,\n",
    "    line_width = w) %>% image_scale(scale = 0.8)\n",
    "\n",
    "d7 <- spiro(transparency = t, rotation = 12/180*pi*6,\n",
    "  fixed_radius = 3,\n",
    "  cycling_radius = 1 ,\n",
    "  pen_radius = 2,\n",
    "    colors = c\n",
    ") %>% add_lines(\n",
    "    colors = l,\n",
    "    line_width = w) %>% image_scale(scale = 0.8)\n",
    "\n",
    "d8 <- spiro( transparency = t, rotation = 12/180*pi*7,\n",
    "  fixed_radius = 3,\n",
    "  cycling_radius = 1 ,\n",
    "  pen_radius = 2,\n",
    "    colors = c\n",
    ") %>% add_lines(\n",
    "    colors = l,\n",
    "    line_width = w) %>% image_scale(scale = 0.8)\n",
    "\n",
    "d9 <- spiro( transparency = t, rotation = 12/180*pi*78,\n",
    "  fixed_radius = 3,\n",
    "  cycling_radius = 1 ,\n",
    "  pen_radius = 2,\n",
    "    colors = c\n",
    ") %>% add_lines(\n",
    "    colors = l,\n",
    "    line_width = w) %>% image_scale(scale = 0.8)\n",
    "\n",
    "d10 <- spiro(transparency = t, rotation = 12/180*pi*9,\n",
    "  fixed_radius = 3,\n",
    "  cycling_radius = 1 ,\n",
    "  pen_radius = 2,\n",
    "    colors = c\n",
    ") %>% add_lines(\n",
    "    colors = l,\n",
    "    line_width = w) %>% image_scale(scale = 0.8)\n",
    "c(d,d2,d3,d4,d10,dance) %>% image_merge(output = \"test_cupcake2.svg\")"
   ]
  },
  {
   "cell_type": "code",
   "execution_count": 141,
   "metadata": {},
   "outputs": [],
   "source": [
    "c(d,d2,d3,d4,d10,dance) %>% image_merge(output = \"test_cupcake2.svg\")"
   ]
  },
  {
   "cell_type": "code",
   "execution_count": 10,
   "metadata": {},
   "outputs": [],
   "source": [
    "c = paletteer_c(package = \"pals\", palette = \"ocean.curl\", n = 100)[50]"
   ]
  },
  {
   "cell_type": "code",
   "execution_count": null,
   "metadata": {},
   "outputs": [],
   "source": []
  }
 ],
 "metadata": {
  "kernelspec": {
   "display_name": "R",
   "language": "R",
   "name": "ir"
  },
  "language_info": {
   "codemirror_mode": "r",
   "file_extension": ".r",
   "mimetype": "text/x-r-source",
   "name": "R",
   "pygments_lexer": "r",
   "version": "3.6.1"
  }
 },
 "nbformat": 4,
 "nbformat_minor": 4
}
