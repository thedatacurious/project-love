{
 "cells": [
  {
   "cell_type": "code",
   "execution_count": 1,
   "metadata": {},
   "outputs": [],
   "source": [
    "library(paletteer)\n",
    "library(spiro)\n",
    "library(magrittr)"
   ]
  },
  {
   "cell_type": "code",
   "execution_count": 2,
   "metadata": {},
   "outputs": [],
   "source": [
    "wedding = read.csv('../data/raw/wedding_playlist.csv', stringsAsFactors = FALSE)\n",
    "top2018 = read.csv('../data/raw/top2018hits_playlist.csv', stringsAsFactors = FALSE)\n",
    "broken = read.csv('../data/raw/broken_heart_playlist.csv', stringsAsFactors = FALSE)"
   ]
  },
  {
   "cell_type": "code",
   "execution_count": 17,
   "metadata": {},
   "outputs": [
    {
     "data": {
      "text/html": [
       "<table>\n",
       "<caption>A data.frame: 8 × 24</caption>\n",
       "<thead>\n",
       "\t<tr><th scope=col>artist</th><th scope=col>album_title</th><th scope=col>album_uri</th><th scope=col>track_title</th><th scope=col>track_id</th><th scope=col>release_date</th><th scope=col>danceability</th><th scope=col>energy</th><th scope=col>key</th><th scope=col>loudness</th><th scope=col>⋯</th><th scope=col>liveness</th><th scope=col>valence</th><th scope=col>tempo</th><th scope=col>type</th><th scope=col>id</th><th scope=col>uri</th><th scope=col>track_href</th><th scope=col>analysis_url</th><th scope=col>duration_ms</th><th scope=col>time_signature</th></tr>\n",
       "\t<tr><th scope=col>&lt;chr&gt;</th><th scope=col>&lt;chr&gt;</th><th scope=col>&lt;chr&gt;</th><th scope=col>&lt;chr&gt;</th><th scope=col>&lt;chr&gt;</th><th scope=col>&lt;chr&gt;</th><th scope=col>&lt;dbl&gt;</th><th scope=col>&lt;dbl&gt;</th><th scope=col>&lt;int&gt;</th><th scope=col>&lt;dbl&gt;</th><th scope=col>⋯</th><th scope=col>&lt;dbl&gt;</th><th scope=col>&lt;dbl&gt;</th><th scope=col>&lt;dbl&gt;</th><th scope=col>&lt;chr&gt;</th><th scope=col>&lt;chr&gt;</th><th scope=col>&lt;chr&gt;</th><th scope=col>&lt;chr&gt;</th><th scope=col>&lt;chr&gt;</th><th scope=col>&lt;int&gt;</th><th scope=col>&lt;int&gt;</th></tr>\n",
       "</thead>\n",
       "<tbody>\n",
       "\t<tr><td>John Legend    </td><td>Love In The Future (Expanded Edition)       </td><td>spotify:album:4OTAx9un4e6NfoHuVRiOrC</td><td>All of Me             </td><td>3U4isOIWM3VvDubwSI3y7a</td><td>2013-08-30</td><td>0.422</td><td>0.264</td><td> 8</td><td>-7.064</td><td>⋯</td><td>0.1320</td><td>0.331</td><td>119.930</td><td>audio_features</td><td>3U4isOIWM3VvDubwSI3y7a</td><td>spotify:track:3U4isOIWM3VvDubwSI3y7a</td><td>https://api.spotify.com/v1/tracks/3U4isOIWM3VvDubwSI3y7a</td><td>https://api.spotify.com/v1/audio-analysis/3U4isOIWM3VvDubwSI3y7a</td><td>269560</td><td>4</td></tr>\n",
       "\t<tr><td><span style=white-space:pre-wrap>Bruno Mars     </span></td><td><span style=white-space:pre-wrap>Doo-Wops &amp; Hooligans                        </span></td><td>spotify:album:1uyf3l2d4XYwiEqAb7t7fX</td><td><span style=white-space:pre-wrap>Marry You             </span></td><td>22PMfvdz35fFKYnJyMn077</td><td>2010-10-05</td><td>0.620</td><td>0.832</td><td>10</td><td>-4.848</td><td>⋯</td><td>0.1040</td><td>0.481</td><td>144.926</td><td>audio_features</td><td>22PMfvdz35fFKYnJyMn077</td><td>spotify:track:22PMfvdz35fFKYnJyMn077</td><td>https://api.spotify.com/v1/tracks/22PMfvdz35fFKYnJyMn077</td><td>https://api.spotify.com/v1/audio-analysis/22PMfvdz35fFKYnJyMn077</td><td>230120</td><td>4</td></tr>\n",
       "\t<tr><td>Ed Sheeran     </td><td>x (Deluxe Edition)                          </td><td>spotify:album:1xn54DMo2qIqBuMqHtUsFd</td><td>Thinking out Loud     </td><td>34gCuhDGsG4bRPIf9bb02f</td><td>2014-06-21</td><td>0.781</td><td>0.445</td><td> 2</td><td>-6.061</td><td>⋯</td><td>0.1840</td><td>0.591</td><td> 78.998</td><td>audio_features</td><td>34gCuhDGsG4bRPIf9bb02f</td><td>spotify:track:34gCuhDGsG4bRPIf9bb02f</td><td>https://api.spotify.com/v1/tracks/34gCuhDGsG4bRPIf9bb02f</td><td>https://api.spotify.com/v1/audio-analysis/34gCuhDGsG4bRPIf9bb02f</td><td>281560</td><td>4</td></tr>\n",
       "\t<tr><td>Christina Perri</td><td>A Thousand Years                            </td><td>spotify:album:15yvc643iYfQtb6zh9NEJo</td><td>A Thousand Years      </td><td>6lanRgr6wXibZr8KgzXxBl</td><td>2011-10-18</td><td>0.421</td><td>0.407</td><td>10</td><td>-7.445</td><td>⋯</td><td>0.1100</td><td>0.161</td><td>139.028</td><td>audio_features</td><td>6lanRgr6wXibZr8KgzXxBl</td><td>spotify:track:6lanRgr6wXibZr8KgzXxBl</td><td>https://api.spotify.com/v1/tracks/6lanRgr6wXibZr8KgzXxBl</td><td>https://api.spotify.com/v1/audio-analysis/6lanRgr6wXibZr8KgzXxBl</td><td>285120</td><td>3</td></tr>\n",
       "\t<tr><td>The Lumineers  </td><td>The Lumineers                               </td><td>spotify:album:6NWYmlHxAME5KXtxrTlUxW</td><td>Ho Hey                </td><td>0W4Kpfp1w2xkY3PrV714B7</td><td>2012-04-03</td><td>0.685</td><td>0.466</td><td> 0</td><td>-9.074</td><td>⋯</td><td>0.0915</td><td>0.353</td><td> 79.936</td><td>audio_features</td><td>0W4Kpfp1w2xkY3PrV714B7</td><td>spotify:track:0W4Kpfp1w2xkY3PrV714B7</td><td>https://api.spotify.com/v1/tracks/0W4Kpfp1w2xkY3PrV714B7</td><td>https://api.spotify.com/v1/audio-analysis/0W4Kpfp1w2xkY3PrV714B7</td><td>163133</td><td>4</td></tr>\n",
       "\t<tr><td>Train          </td><td>Save Me, San Francisco (Golden Gate Edition)</td><td>spotify:album:7tEPbuzTMNGSytEMdezXtS</td><td>Marry Me              </td><td>0VZ9xPNa6ROafP6GYYuv2S</td><td>2009      </td><td>0.366</td><td>0.269</td><td> 0</td><td>-8.456</td><td>⋯</td><td>0.1080</td><td>0.492</td><td> 86.577</td><td>audio_features</td><td>0VZ9xPNa6ROafP6GYYuv2S</td><td>spotify:track:0VZ9xPNa6ROafP6GYYuv2S</td><td>https://api.spotify.com/v1/tracks/0VZ9xPNa6ROafP6GYYuv2S</td><td>https://api.spotify.com/v1/audio-analysis/0VZ9xPNa6ROafP6GYYuv2S</td><td>205453</td><td>4</td></tr>\n",
       "\t<tr><td>Jason Mraz     </td><td>We Sing. We Dance. We Steal Things.         </td><td>spotify:album:04G0YylSjvDQZrjOfE5jA5</td><td>Lucky                 </td><td>0IktbUcnAGrvD03AWnz3Q8</td><td>2008-05-12</td><td>0.623</td><td>0.417</td><td> 0</td><td>-8.699</td><td>⋯</td><td>0.1350</td><td>0.721</td><td>130.032</td><td>audio_features</td><td>0IktbUcnAGrvD03AWnz3Q8</td><td>spotify:track:0IktbUcnAGrvD03AWnz3Q8</td><td>https://api.spotify.com/v1/tracks/0IktbUcnAGrvD03AWnz3Q8</td><td>https://api.spotify.com/v1/audio-analysis/0IktbUcnAGrvD03AWnz3Q8</td><td>191360</td><td>4</td></tr>\n",
       "\t<tr><td>Ray LaMontagne </td><td>Gossip In The Grain                         </td><td>spotify:album:2CbLBSlkvh2vR4JRLDRQso</td><td>You Are the Best Thing</td><td>1jyddn36UN4tVsJGtaJfem</td><td>2008-10-13</td><td>0.579</td><td>0.727</td><td>10</td><td>-4.872</td><td>⋯</td><td>0.1720</td><td>0.885</td><td>170.593</td><td>audio_features</td><td>1jyddn36UN4tVsJGtaJfem</td><td>spotify:track:1jyddn36UN4tVsJGtaJfem</td><td>https://api.spotify.com/v1/tracks/1jyddn36UN4tVsJGtaJfem</td><td>https://api.spotify.com/v1/audio-analysis/1jyddn36UN4tVsJGtaJfem</td><td>231840</td><td>4</td></tr>\n",
       "</tbody>\n",
       "</table>\n"
      ],
      "text/latex": [
       "A data.frame: 8 × 24\n",
       "\\begin{tabular}{r|llllllllllllllllllllllll}\n",
       " artist & album\\_title & album\\_uri & track\\_title & track\\_id & release\\_date & danceability & energy & key & loudness & mode & speechiness & acousticness & instrumentalness & liveness & valence & tempo & type & id & uri & track\\_href & analysis\\_url & duration\\_ms & time\\_signature\\\\\n",
       " <chr> & <chr> & <chr> & <chr> & <chr> & <chr> & <dbl> & <dbl> & <int> & <dbl> & <int> & <dbl> & <dbl> & <dbl> & <dbl> & <dbl> & <dbl> & <chr> & <chr> & <chr> & <chr> & <chr> & <int> & <int>\\\\\n",
       "\\hline\n",
       "\t John Legend     & Love In The Future (Expanded Edition)        & spotify:album:4OTAx9un4e6NfoHuVRiOrC & All of Me              & 3U4isOIWM3VvDubwSI3y7a & 2013-08-30 & 0.422 & 0.264 &  8 & -7.064 & 1 & 0.0322 & 0.9220 & 0.00e+00 & 0.1320 & 0.331 & 119.930 & audio\\_features & 3U4isOIWM3VvDubwSI3y7a & spotify:track:3U4isOIWM3VvDubwSI3y7a & https://api.spotify.com/v1/tracks/3U4isOIWM3VvDubwSI3y7a & https://api.spotify.com/v1/audio-analysis/3U4isOIWM3VvDubwSI3y7a & 269560 & 4\\\\\n",
       "\t Bruno Mars      & Doo-Wops \\& Hooligans                         & spotify:album:1uyf3l2d4XYwiEqAb7t7fX & Marry You              & 22PMfvdz35fFKYnJyMn077 & 2010-10-05 & 0.620 & 0.832 & 10 & -4.848 & 1 & 0.0360 & 0.3320 & 0.00e+00 & 0.1040 & 0.481 & 144.926 & audio\\_features & 22PMfvdz35fFKYnJyMn077 & spotify:track:22PMfvdz35fFKYnJyMn077 & https://api.spotify.com/v1/tracks/22PMfvdz35fFKYnJyMn077 & https://api.spotify.com/v1/audio-analysis/22PMfvdz35fFKYnJyMn077 & 230120 & 4\\\\\n",
       "\t Ed Sheeran      & x (Deluxe Edition)                           & spotify:album:1xn54DMo2qIqBuMqHtUsFd & Thinking out Loud      & 34gCuhDGsG4bRPIf9bb02f & 2014-06-21 & 0.781 & 0.445 &  2 & -6.061 & 1 & 0.0295 & 0.4740 & 0.00e+00 & 0.1840 & 0.591 &  78.998 & audio\\_features & 34gCuhDGsG4bRPIf9bb02f & spotify:track:34gCuhDGsG4bRPIf9bb02f & https://api.spotify.com/v1/tracks/34gCuhDGsG4bRPIf9bb02f & https://api.spotify.com/v1/audio-analysis/34gCuhDGsG4bRPIf9bb02f & 281560 & 4\\\\\n",
       "\t Christina Perri & A Thousand Years                             & spotify:album:15yvc643iYfQtb6zh9NEJo & A Thousand Years       & 6lanRgr6wXibZr8KgzXxBl & 2011-10-18 & 0.421 & 0.407 & 10 & -7.445 & 1 & 0.0267 & 0.3090 & 9.61e-04 & 0.1100 & 0.161 & 139.028 & audio\\_features & 6lanRgr6wXibZr8KgzXxBl & spotify:track:6lanRgr6wXibZr8KgzXxBl & https://api.spotify.com/v1/tracks/6lanRgr6wXibZr8KgzXxBl & https://api.spotify.com/v1/audio-analysis/6lanRgr6wXibZr8KgzXxBl & 285120 & 3\\\\\n",
       "\t The Lumineers   & The Lumineers                                & spotify:album:6NWYmlHxAME5KXtxrTlUxW & Ho Hey                 & 0W4Kpfp1w2xkY3PrV714B7 & 2012-04-03 & 0.685 & 0.466 &  0 & -9.074 & 1 & 0.0304 & 0.7940 & 2.06e-06 & 0.0915 & 0.353 &  79.936 & audio\\_features & 0W4Kpfp1w2xkY3PrV714B7 & spotify:track:0W4Kpfp1w2xkY3PrV714B7 & https://api.spotify.com/v1/tracks/0W4Kpfp1w2xkY3PrV714B7 & https://api.spotify.com/v1/audio-analysis/0W4Kpfp1w2xkY3PrV714B7 & 163133 & 4\\\\\n",
       "\t Train           & Save Me, San Francisco (Golden Gate Edition) & spotify:album:7tEPbuzTMNGSytEMdezXtS & Marry Me               & 0VZ9xPNa6ROafP6GYYuv2S & 2009       & 0.366 & 0.269 &  0 & -8.456 & 1 & 0.0287 & 0.8290 & 1.67e-05 & 0.1080 & 0.492 &  86.577 & audio\\_features & 0VZ9xPNa6ROafP6GYYuv2S & spotify:track:0VZ9xPNa6ROafP6GYYuv2S & https://api.spotify.com/v1/tracks/0VZ9xPNa6ROafP6GYYuv2S & https://api.spotify.com/v1/audio-analysis/0VZ9xPNa6ROafP6GYYuv2S & 205453 & 4\\\\\n",
       "\t Jason Mraz      & We Sing. We Dance. We Steal Things.          & spotify:album:04G0YylSjvDQZrjOfE5jA5 & Lucky                  & 0IktbUcnAGrvD03AWnz3Q8 & 2008-05-12 & 0.623 & 0.417 &  0 & -8.699 & 1 & 0.0354 & 0.2960 & 0.00e+00 & 0.1350 & 0.721 & 130.032 & audio\\_features & 0IktbUcnAGrvD03AWnz3Q8 & spotify:track:0IktbUcnAGrvD03AWnz3Q8 & https://api.spotify.com/v1/tracks/0IktbUcnAGrvD03AWnz3Q8 & https://api.spotify.com/v1/audio-analysis/0IktbUcnAGrvD03AWnz3Q8 & 191360 & 4\\\\\n",
       "\t Ray LaMontagne  & Gossip In The Grain                          & spotify:album:2CbLBSlkvh2vR4JRLDRQso & You Are the Best Thing & 1jyddn36UN4tVsJGtaJfem & 2008-10-13 & 0.579 & 0.727 & 10 & -4.872 & 1 & 0.0332 & 0.0304 & 1.99e-05 & 0.1720 & 0.885 & 170.593 & audio\\_features & 1jyddn36UN4tVsJGtaJfem & spotify:track:1jyddn36UN4tVsJGtaJfem & https://api.spotify.com/v1/tracks/1jyddn36UN4tVsJGtaJfem & https://api.spotify.com/v1/audio-analysis/1jyddn36UN4tVsJGtaJfem & 231840 & 4\\\\\n",
       "\\end{tabular}\n"
      ],
      "text/markdown": [
       "\n",
       "A data.frame: 8 × 24\n",
       "\n",
       "| artist &lt;chr&gt; | album_title &lt;chr&gt; | album_uri &lt;chr&gt; | track_title &lt;chr&gt; | track_id &lt;chr&gt; | release_date &lt;chr&gt; | danceability &lt;dbl&gt; | energy &lt;dbl&gt; | key &lt;int&gt; | loudness &lt;dbl&gt; | ⋯ ⋯ | liveness &lt;dbl&gt; | valence &lt;dbl&gt; | tempo &lt;dbl&gt; | type &lt;chr&gt; | id &lt;chr&gt; | uri &lt;chr&gt; | track_href &lt;chr&gt; | analysis_url &lt;chr&gt; | duration_ms &lt;int&gt; | time_signature &lt;int&gt; |\n",
       "|---|---|---|---|---|---|---|---|---|---|---|---|---|---|---|---|---|---|---|---|---|\n",
       "| John Legend     | Love In The Future (Expanded Edition)        | spotify:album:4OTAx9un4e6NfoHuVRiOrC | All of Me              | 3U4isOIWM3VvDubwSI3y7a | 2013-08-30 | 0.422 | 0.264 |  8 | -7.064 | ⋯ | 0.1320 | 0.331 | 119.930 | audio_features | 3U4isOIWM3VvDubwSI3y7a | spotify:track:3U4isOIWM3VvDubwSI3y7a | https://api.spotify.com/v1/tracks/3U4isOIWM3VvDubwSI3y7a | https://api.spotify.com/v1/audio-analysis/3U4isOIWM3VvDubwSI3y7a | 269560 | 4 |\n",
       "| Bruno Mars      | Doo-Wops &amp; Hooligans                         | spotify:album:1uyf3l2d4XYwiEqAb7t7fX | Marry You              | 22PMfvdz35fFKYnJyMn077 | 2010-10-05 | 0.620 | 0.832 | 10 | -4.848 | ⋯ | 0.1040 | 0.481 | 144.926 | audio_features | 22PMfvdz35fFKYnJyMn077 | spotify:track:22PMfvdz35fFKYnJyMn077 | https://api.spotify.com/v1/tracks/22PMfvdz35fFKYnJyMn077 | https://api.spotify.com/v1/audio-analysis/22PMfvdz35fFKYnJyMn077 | 230120 | 4 |\n",
       "| Ed Sheeran      | x (Deluxe Edition)                           | spotify:album:1xn54DMo2qIqBuMqHtUsFd | Thinking out Loud      | 34gCuhDGsG4bRPIf9bb02f | 2014-06-21 | 0.781 | 0.445 |  2 | -6.061 | ⋯ | 0.1840 | 0.591 |  78.998 | audio_features | 34gCuhDGsG4bRPIf9bb02f | spotify:track:34gCuhDGsG4bRPIf9bb02f | https://api.spotify.com/v1/tracks/34gCuhDGsG4bRPIf9bb02f | https://api.spotify.com/v1/audio-analysis/34gCuhDGsG4bRPIf9bb02f | 281560 | 4 |\n",
       "| Christina Perri | A Thousand Years                             | spotify:album:15yvc643iYfQtb6zh9NEJo | A Thousand Years       | 6lanRgr6wXibZr8KgzXxBl | 2011-10-18 | 0.421 | 0.407 | 10 | -7.445 | ⋯ | 0.1100 | 0.161 | 139.028 | audio_features | 6lanRgr6wXibZr8KgzXxBl | spotify:track:6lanRgr6wXibZr8KgzXxBl | https://api.spotify.com/v1/tracks/6lanRgr6wXibZr8KgzXxBl | https://api.spotify.com/v1/audio-analysis/6lanRgr6wXibZr8KgzXxBl | 285120 | 3 |\n",
       "| The Lumineers   | The Lumineers                                | spotify:album:6NWYmlHxAME5KXtxrTlUxW | Ho Hey                 | 0W4Kpfp1w2xkY3PrV714B7 | 2012-04-03 | 0.685 | 0.466 |  0 | -9.074 | ⋯ | 0.0915 | 0.353 |  79.936 | audio_features | 0W4Kpfp1w2xkY3PrV714B7 | spotify:track:0W4Kpfp1w2xkY3PrV714B7 | https://api.spotify.com/v1/tracks/0W4Kpfp1w2xkY3PrV714B7 | https://api.spotify.com/v1/audio-analysis/0W4Kpfp1w2xkY3PrV714B7 | 163133 | 4 |\n",
       "| Train           | Save Me, San Francisco (Golden Gate Edition) | spotify:album:7tEPbuzTMNGSytEMdezXtS | Marry Me               | 0VZ9xPNa6ROafP6GYYuv2S | 2009       | 0.366 | 0.269 |  0 | -8.456 | ⋯ | 0.1080 | 0.492 |  86.577 | audio_features | 0VZ9xPNa6ROafP6GYYuv2S | spotify:track:0VZ9xPNa6ROafP6GYYuv2S | https://api.spotify.com/v1/tracks/0VZ9xPNa6ROafP6GYYuv2S | https://api.spotify.com/v1/audio-analysis/0VZ9xPNa6ROafP6GYYuv2S | 205453 | 4 |\n",
       "| Jason Mraz      | We Sing. We Dance. We Steal Things.          | spotify:album:04G0YylSjvDQZrjOfE5jA5 | Lucky                  | 0IktbUcnAGrvD03AWnz3Q8 | 2008-05-12 | 0.623 | 0.417 |  0 | -8.699 | ⋯ | 0.1350 | 0.721 | 130.032 | audio_features | 0IktbUcnAGrvD03AWnz3Q8 | spotify:track:0IktbUcnAGrvD03AWnz3Q8 | https://api.spotify.com/v1/tracks/0IktbUcnAGrvD03AWnz3Q8 | https://api.spotify.com/v1/audio-analysis/0IktbUcnAGrvD03AWnz3Q8 | 191360 | 4 |\n",
       "| Ray LaMontagne  | Gossip In The Grain                          | spotify:album:2CbLBSlkvh2vR4JRLDRQso | You Are the Best Thing | 1jyddn36UN4tVsJGtaJfem | 2008-10-13 | 0.579 | 0.727 | 10 | -4.872 | ⋯ | 0.1720 | 0.885 | 170.593 | audio_features | 1jyddn36UN4tVsJGtaJfem | spotify:track:1jyddn36UN4tVsJGtaJfem | https://api.spotify.com/v1/tracks/1jyddn36UN4tVsJGtaJfem | https://api.spotify.com/v1/audio-analysis/1jyddn36UN4tVsJGtaJfem | 231840 | 4 |\n",
       "\n"
      ],
      "text/plain": [
       "  artist          album_title                                 \n",
       "1 John Legend     Love In The Future (Expanded Edition)       \n",
       "2 Bruno Mars      Doo-Wops & Hooligans                        \n",
       "3 Ed Sheeran      x (Deluxe Edition)                          \n",
       "4 Christina Perri A Thousand Years                            \n",
       "5 The Lumineers   The Lumineers                               \n",
       "6 Train           Save Me, San Francisco (Golden Gate Edition)\n",
       "7 Jason Mraz      We Sing. We Dance. We Steal Things.         \n",
       "8 Ray LaMontagne  Gossip In The Grain                         \n",
       "  album_uri                            track_title           \n",
       "1 spotify:album:4OTAx9un4e6NfoHuVRiOrC All of Me             \n",
       "2 spotify:album:1uyf3l2d4XYwiEqAb7t7fX Marry You             \n",
       "3 spotify:album:1xn54DMo2qIqBuMqHtUsFd Thinking out Loud     \n",
       "4 spotify:album:15yvc643iYfQtb6zh9NEJo A Thousand Years      \n",
       "5 spotify:album:6NWYmlHxAME5KXtxrTlUxW Ho Hey                \n",
       "6 spotify:album:7tEPbuzTMNGSytEMdezXtS Marry Me              \n",
       "7 spotify:album:04G0YylSjvDQZrjOfE5jA5 Lucky                 \n",
       "8 spotify:album:2CbLBSlkvh2vR4JRLDRQso You Are the Best Thing\n",
       "  track_id               release_date danceability energy key loudness ⋯\n",
       "1 3U4isOIWM3VvDubwSI3y7a 2013-08-30   0.422        0.264   8  -7.064   ⋯\n",
       "2 22PMfvdz35fFKYnJyMn077 2010-10-05   0.620        0.832  10  -4.848   ⋯\n",
       "3 34gCuhDGsG4bRPIf9bb02f 2014-06-21   0.781        0.445   2  -6.061   ⋯\n",
       "4 6lanRgr6wXibZr8KgzXxBl 2011-10-18   0.421        0.407  10  -7.445   ⋯\n",
       "5 0W4Kpfp1w2xkY3PrV714B7 2012-04-03   0.685        0.466   0  -9.074   ⋯\n",
       "6 0VZ9xPNa6ROafP6GYYuv2S 2009         0.366        0.269   0  -8.456   ⋯\n",
       "7 0IktbUcnAGrvD03AWnz3Q8 2008-05-12   0.623        0.417   0  -8.699   ⋯\n",
       "8 1jyddn36UN4tVsJGtaJfem 2008-10-13   0.579        0.727  10  -4.872   ⋯\n",
       "  liveness valence tempo   type           id                    \n",
       "1 0.1320   0.331   119.930 audio_features 3U4isOIWM3VvDubwSI3y7a\n",
       "2 0.1040   0.481   144.926 audio_features 22PMfvdz35fFKYnJyMn077\n",
       "3 0.1840   0.591    78.998 audio_features 34gCuhDGsG4bRPIf9bb02f\n",
       "4 0.1100   0.161   139.028 audio_features 6lanRgr6wXibZr8KgzXxBl\n",
       "5 0.0915   0.353    79.936 audio_features 0W4Kpfp1w2xkY3PrV714B7\n",
       "6 0.1080   0.492    86.577 audio_features 0VZ9xPNa6ROafP6GYYuv2S\n",
       "7 0.1350   0.721   130.032 audio_features 0IktbUcnAGrvD03AWnz3Q8\n",
       "8 0.1720   0.885   170.593 audio_features 1jyddn36UN4tVsJGtaJfem\n",
       "  uri                                 \n",
       "1 spotify:track:3U4isOIWM3VvDubwSI3y7a\n",
       "2 spotify:track:22PMfvdz35fFKYnJyMn077\n",
       "3 spotify:track:34gCuhDGsG4bRPIf9bb02f\n",
       "4 spotify:track:6lanRgr6wXibZr8KgzXxBl\n",
       "5 spotify:track:0W4Kpfp1w2xkY3PrV714B7\n",
       "6 spotify:track:0VZ9xPNa6ROafP6GYYuv2S\n",
       "7 spotify:track:0IktbUcnAGrvD03AWnz3Q8\n",
       "8 spotify:track:1jyddn36UN4tVsJGtaJfem\n",
       "  track_href                                              \n",
       "1 https://api.spotify.com/v1/tracks/3U4isOIWM3VvDubwSI3y7a\n",
       "2 https://api.spotify.com/v1/tracks/22PMfvdz35fFKYnJyMn077\n",
       "3 https://api.spotify.com/v1/tracks/34gCuhDGsG4bRPIf9bb02f\n",
       "4 https://api.spotify.com/v1/tracks/6lanRgr6wXibZr8KgzXxBl\n",
       "5 https://api.spotify.com/v1/tracks/0W4Kpfp1w2xkY3PrV714B7\n",
       "6 https://api.spotify.com/v1/tracks/0VZ9xPNa6ROafP6GYYuv2S\n",
       "7 https://api.spotify.com/v1/tracks/0IktbUcnAGrvD03AWnz3Q8\n",
       "8 https://api.spotify.com/v1/tracks/1jyddn36UN4tVsJGtaJfem\n",
       "  analysis_url                                                     duration_ms\n",
       "1 https://api.spotify.com/v1/audio-analysis/3U4isOIWM3VvDubwSI3y7a 269560     \n",
       "2 https://api.spotify.com/v1/audio-analysis/22PMfvdz35fFKYnJyMn077 230120     \n",
       "3 https://api.spotify.com/v1/audio-analysis/34gCuhDGsG4bRPIf9bb02f 281560     \n",
       "4 https://api.spotify.com/v1/audio-analysis/6lanRgr6wXibZr8KgzXxBl 285120     \n",
       "5 https://api.spotify.com/v1/audio-analysis/0W4Kpfp1w2xkY3PrV714B7 163133     \n",
       "6 https://api.spotify.com/v1/audio-analysis/0VZ9xPNa6ROafP6GYYuv2S 205453     \n",
       "7 https://api.spotify.com/v1/audio-analysis/0IktbUcnAGrvD03AWnz3Q8 191360     \n",
       "8 https://api.spotify.com/v1/audio-analysis/1jyddn36UN4tVsJGtaJfem 231840     \n",
       "  time_signature\n",
       "1 4             \n",
       "2 4             \n",
       "3 4             \n",
       "4 3             \n",
       "5 4             \n",
       "6 4             \n",
       "7 4             \n",
       "8 4             "
      ]
     },
     "metadata": {},
     "output_type": "display_data"
    }
   ],
   "source": [
    "head(wedding, 8)"
   ]
  },
  {
   "cell_type": "code",
   "execution_count": 16,
   "metadata": {},
   "outputs": [
    {
     "name": "stderr",
     "output_type": "stream",
     "text": [
      "Adding missing grouping variables: `color_cycle_id`, `color_id`\n",
      "Warning message in .f(color_cycle_id = .l[[1L]][[1L]], color_id = .l[[2L]][[1L]], :\n",
      "“\"color_cycle_id\" is not a graphical parameter”Warning message in .f(color_cycle_id = .l[[1L]][[1L]], color_id = .l[[2L]][[1L]], :\n",
      "“\"color_id\" is not a graphical parameter”Adding missing grouping variables: `color_cycle_id`, `color_id`\n",
      "Warning message in .f(color_cycle_id = .l[[1L]][[1L]], color_id = .l[[2L]][[1L]], :\n",
      "“\"color_cycle_id\" is not a graphical parameter”Warning message in .f(color_cycle_id = .l[[1L]][[1L]], color_id = .l[[2L]][[1L]], :\n",
      "“\"color_id\" is not a graphical parameter”Adding missing grouping variables: `color_cycle_id`, `color_id`\n",
      "Warning message in .f(color_cycle_id = .l[[1L]][[1L]], color_id = .l[[2L]][[1L]], :\n",
      "“\"color_cycle_id\" is not a graphical parameter”Warning message in .f(color_cycle_id = .l[[1L]][[1L]], color_id = .l[[2L]][[1L]], :\n",
      "“\"color_id\" is not a graphical parameter”Adding missing grouping variables: `color_cycle_id`, `color_id`\n",
      "Warning message in .f(color_cycle_id = .l[[1L]][[1L]], color_id = .l[[2L]][[1L]], :\n",
      "“\"color_cycle_id\" is not a graphical parameter”Warning message in .f(color_cycle_id = .l[[1L]][[1L]], color_id = .l[[2L]][[1L]], :\n",
      "“\"color_id\" is not a graphical parameter”Adding missing grouping variables: `color_cycle_id`, `color_id`\n",
      "Warning message in .f(color_cycle_id = .l[[1L]][[1L]], color_id = .l[[2L]][[1L]], :\n",
      "“\"color_cycle_id\" is not a graphical parameter”Warning message in .f(color_cycle_id = .l[[1L]][[1L]], color_id = .l[[2L]][[1L]], :\n",
      "“\"color_id\" is not a graphical parameter”Adding missing grouping variables: `color_cycle_id`, `color_id`\n",
      "Warning message in .f(color_cycle_id = .l[[1L]][[1L]], color_id = .l[[2L]][[1L]], :\n",
      "“\"color_cycle_id\" is not a graphical parameter”Warning message in .f(color_cycle_id = .l[[1L]][[1L]], color_id = .l[[2L]][[1L]], :\n",
      "“\"color_id\" is not a graphical parameter”Adding missing grouping variables: `color_cycle_id`, `color_id`\n",
      "Warning message in .f(color_cycle_id = .l[[1L]][[1L]], color_id = .l[[2L]][[1L]], :\n",
      "“\"color_cycle_id\" is not a graphical parameter”Warning message in .f(color_cycle_id = .l[[1L]][[1L]], color_id = .l[[2L]][[1L]], :\n",
      "“\"color_id\" is not a graphical parameter”Adding missing grouping variables: `color_cycle_id`, `color_id`\n",
      "Warning message in .f(color_cycle_id = .l[[1L]][[1L]], color_id = .l[[2L]][[1L]], :\n",
      "“\"color_cycle_id\" is not a graphical parameter”Warning message in .f(color_cycle_id = .l[[1L]][[1L]], color_id = .l[[2L]][[1L]], :\n",
      "“\"color_id\" is not a graphical parameter”Adding missing grouping variables: `color_cycle_id`, `color_id`\n",
      "Warning message in .f(color_cycle_id = .l[[1L]][[1L]], color_id = .l[[2L]][[1L]], :\n",
      "“\"color_cycle_id\" is not a graphical parameter”Warning message in .f(color_cycle_id = .l[[1L]][[1L]], color_id = .l[[2L]][[1L]], :\n",
      "“\"color_id\" is not a graphical parameter”Adding missing grouping variables: `color_cycle_id`, `color_id`\n",
      "Warning message in .f(color_cycle_id = .l[[1L]][[1L]], color_id = .l[[2L]][[1L]], :\n",
      "“\"color_cycle_id\" is not a graphical parameter”Warning message in .f(color_cycle_id = .l[[1L]][[1L]], color_id = .l[[2L]][[1L]], :\n",
      "“\"color_id\" is not a graphical parameter”Adding missing grouping variables: `color_cycle_id`, `color_id`\n",
      "Warning message in .f(color_cycle_id = .l[[1L]][[1L]], color_id = .l[[2L]][[1L]], :\n",
      "“\"color_cycle_id\" is not a graphical parameter”Warning message in .f(color_cycle_id = .l[[1L]][[1L]], color_id = .l[[2L]][[1L]], :\n",
      "“\"color_id\" is not a graphical parameter”Adding missing grouping variables: `color_cycle_id`, `color_id`\n",
      "Warning message in .f(color_cycle_id = .l[[1L]][[1L]], color_id = .l[[2L]][[1L]], :\n",
      "“\"color_cycle_id\" is not a graphical parameter”Warning message in .f(color_cycle_id = .l[[1L]][[1L]], color_id = .l[[2L]][[1L]], :\n",
      "“\"color_id\" is not a graphical parameter”Adding missing grouping variables: `color_cycle_id`, `color_id`\n",
      "Warning message in .f(color_cycle_id = .l[[1L]][[1L]], color_id = .l[[2L]][[1L]], :\n",
      "“\"color_cycle_id\" is not a graphical parameter”Warning message in .f(color_cycle_id = .l[[1L]][[1L]], color_id = .l[[2L]][[1L]], :\n",
      "“\"color_id\" is not a graphical parameter”Adding missing grouping variables: `color_cycle_id`, `color_id`\n",
      "Warning message in .f(color_cycle_id = .l[[1L]][[1L]], color_id = .l[[2L]][[1L]], :\n",
      "“\"color_cycle_id\" is not a graphical parameter”Warning message in .f(color_cycle_id = .l[[1L]][[1L]], color_id = .l[[2L]][[1L]], :\n",
      "“\"color_id\" is not a graphical parameter”Adding missing grouping variables: `color_cycle_id`, `color_id`\n",
      "Warning message in .f(color_cycle_id = .l[[1L]][[1L]], color_id = .l[[2L]][[1L]], :\n",
      "“\"color_cycle_id\" is not a graphical parameter”Warning message in .f(color_cycle_id = .l[[1L]][[1L]], color_id = .l[[2L]][[1L]], :\n",
      "“\"color_id\" is not a graphical parameter”"
     ]
    }
   ],
   "source": [
    "cupcake_creator(valence = 0.721, energy = 0.417, genre = pop)"
   ]
  },
  {
   "cell_type": "code",
   "execution_count": 7,
   "metadata": {},
   "outputs": [],
   "source": [
    "cupcake_creator <- function(valence, energy, genre){\n",
    "    \n",
    "valence = as.integer(round(100*valence,0))\n",
    "c = paletteer_c(package = \"pals\", palette = \"ocean.curl\", n = 100)[valence]\n",
    "t = 0.7\n",
    "    \n",
    "d <- spiro(transparency = t,\n",
    "  fixed_radius = 3,\n",
    "  cycling_radius = 1 ,\n",
    "  pen_radius = 2,\n",
    "    colors = c\n",
    ")  %>% image_scale(scale = 0.8)\n",
    "\n",
    "d2 <- spiro(transparency = t, rotation = 12/180*pi,\n",
    "  fixed_radius = 3,\n",
    "  cycling_radius = 1 ,\n",
    "  pen_radius = 2,\n",
    "    colors = c\n",
    ") %>% image_scale(scale = 0.8)\n",
    "\n",
    "d3 <- spiro(transparency = t, rotation = 12/180*pi*2,\n",
    "  fixed_radius = 3,\n",
    "  cycling_radius = 1 ,\n",
    "  pen_radius = 2,\n",
    "    colors = c\n",
    ") %>% image_scale(scale = 0.8)\n",
    "\n",
    "d4 <- spiro(transparency = t, rotation = 12/180*pi*3,\n",
    "  fixed_radius = 3,\n",
    "  cycling_radius = 1 ,\n",
    "  pen_radius = 2,\n",
    "    colors = c\n",
    ") %>% image_scale(scale = 0.8)\n",
    "\n",
    "d5 <- spiro(transparency = t, rotation = 12/180*pi*4,\n",
    "  fixed_radius = 3,\n",
    "  cycling_radius = 1 ,\n",
    "  pen_radius = 2,\n",
    "    colors = c\n",
    ") %>% image_scale(scale = 0.8)\n",
    "\n",
    "d6 <- spiro(transparency = t, rotation = 12/180*pi*5,\n",
    "  fixed_radius = 3,\n",
    "  cycling_radius = 1 ,\n",
    "  pen_radius = 2,\n",
    "    colors = c\n",
    ") %>% image_scale(scale = 0.8)\n",
    "\n",
    "d7 <- spiro(transparency = t, rotation = 12/180*pi*6,\n",
    "  fixed_radius = 3,\n",
    "  cycling_radius = 1 ,\n",
    "  pen_radius = 2,\n",
    "    colors = c\n",
    ") %>% image_scale(scale = 0.8)\n",
    "\n",
    "d8 <- spiro(transparency = t, rotation = 12/180*pi*7,\n",
    "  fixed_radius = 3,\n",
    "  cycling_radius = 1 ,\n",
    "  pen_radius = 2,\n",
    "    colors = c\n",
    ") %>% image_scale(scale = 0.8)\n",
    "\n",
    "d9 <- spiro(transparency = t, rotation = 12/180*pi*78,\n",
    "  fixed_radius = 3,\n",
    "  cycling_radius = 1 ,\n",
    "  pen_radius = 2,\n",
    "    colors = c\n",
    ") %>% image_scale(scale = 0.8)\n",
    "\n",
    "d10 <- spiro(transparency = t, rotation = 12/180*pi*9,\n",
    "  fixed_radius = 3,\n",
    "  cycling_radius = 1 ,\n",
    "  pen_radius = 2,\n",
    "    colors = c\n",
    ") %>% image_scale(scale = 0.8)    \n",
    "    \n",
    "\n",
    "    if(energy <= 0.1){d_list = d}\n",
    "    else if(energy <= 0.2){d_list = c(d,d2)}\n",
    "    else if(energy > 0.2 & energy <= 0.3){d_list = c(d,d2,d3)}\n",
    "    else if(energy > 0.3 & energy <= 0.4){d_list = c(d,d2,d3,d4)}\n",
    "    else if(energy > 0.4 & energy <= 0.5){d_list = c(d,d2,d3,d4,d5)}\n",
    "    else if(energy > 0.5 & energy <= 0.6){d_list = c(d,d2,d3,d4,d5,d6)}\n",
    "    else if(energy > 0.6 & energy <= 0.7){d_list = c(d,d2,d3,d4,d5,d6,d7)}\n",
    "    else if(energy > 0.7 & energy <= 0.8){d_list = c(d,d2,d3,d4,d5,d6,d7,d8)}\n",
    "    else if(energy > 0.8 & energy <= 0.9){d_list = c(d,d2,d3,d4,d5,d6,d7,d8,d9)}\n",
    "    else {d_list = c(d,d2,d3,d4,d5,d6,d7,d8,d9,d10)}\n",
    "\n",
    "indie = spiro(\n",
    "  fixed_radius = 121,\n",
    "  cycling_radius = 20,\n",
    "  pen_radius = 80,\n",
    "  color_groups = 1,\n",
    "  color_cycles = 1,\n",
    "  points_per_polygon = 10000,\n",
    "  colors = \"black\"\n",
    "  ) %>% image_scale(scale = 0.15)\n",
    "        \n",
    "dance = spiro(\n",
    "  fixed_radius = 121,\n",
    "  cycling_radius = 100,\n",
    "  pen_radius = 13,\n",
    "  color_groups = 1,\n",
    "  color_cycles = 1,\n",
    "  points_per_polygon = 200,\n",
    "  colors = \"black\"\n",
    "  ) %>% image_scale(scale = 0.15)\n",
    "\n",
    "hiphop  = spiro(\n",
    "  fixed_radius = 121,\n",
    "  cycling_radius = 50,\n",
    "  pen_radius = 80,\n",
    "  color_groups = 1,\n",
    "  color_cycles = 1,\n",
    "  points_per_polygon = 200,\n",
    "  colors = \"black\"\n",
    "  ) %>% image_scale(scale = 0.15)\n",
    "        \n",
    "soul = spiro(\n",
    "  fixed_radius = 121,\n",
    "  cycling_radius = 80,\n",
    "  pen_radius = 50,\n",
    "  color_groups = 1,\n",
    "  color_cycles = 1,\n",
    "  points_per_polygon = 500,\n",
    "  colors = \"black\"\n",
    "  ) %>% image_scale(scale = 0.15)\n",
    "\n",
    "pop = spiro(\n",
    "  fixed_radius = 121,\n",
    "  cycling_radius = 18,\n",
    "  pen_radius = 95,\n",
    "  color_groups = 1,\n",
    "  color_cycles = 1,\n",
    "  points_per_polygon = 180,\n",
    "  colors = \"black\"\n",
    "  ) %>% image_scale(scale = 0.15)\n",
    "        \n",
    "c(d_list,genre) %>% image_merge(output = \"new_cupcake.svg\")\n",
    "}"
   ]
  },
  {
   "cell_type": "code",
   "execution_count": 4,
   "metadata": {},
   "outputs": [
    {
     "data": {
      "text/html": [
       "<ol class=list-inline>\n",
       "\t<li>'#151D44'</li>\n",
       "\t<li>'#1B4C5F'</li>\n",
       "\t<li>'#167B77'</li>\n",
       "\t<li>'#5CA687'</li>\n",
       "\t<li>'#B4CAAF'</li>\n",
       "\t<li>'#FDF5F3'</li>\n",
       "\t<li>'#E6B6A2'</li>\n",
       "\t<li>'#D2776A'</li>\n",
       "\t<li>'#AC3F60'</li>\n",
       "\t<li>'#741A5A'</li>\n",
       "\t<li>'#340D35'</li>\n",
       "</ol>\n"
      ],
      "text/latex": [
       "\\begin{enumerate*}\n",
       "\\item '\\#151D44'\n",
       "\\item '\\#1B4C5F'\n",
       "\\item '\\#167B77'\n",
       "\\item '\\#5CA687'\n",
       "\\item '\\#B4CAAF'\n",
       "\\item '\\#FDF5F3'\n",
       "\\item '\\#E6B6A2'\n",
       "\\item '\\#D2776A'\n",
       "\\item '\\#AC3F60'\n",
       "\\item '\\#741A5A'\n",
       "\\item '\\#340D35'\n",
       "\\end{enumerate*}\n"
      ],
      "text/markdown": [
       "1. '#151D44'\n",
       "2. '#1B4C5F'\n",
       "3. '#167B77'\n",
       "4. '#5CA687'\n",
       "5. '#B4CAAF'\n",
       "6. '#FDF5F3'\n",
       "7. '#E6B6A2'\n",
       "8. '#D2776A'\n",
       "9. '#AC3F60'\n",
       "10. '#741A5A'\n",
       "11. '#340D35'\n",
       "\n",
       "\n"
      ],
      "text/plain": [
       " [1] \"#151D44\" \"#1B4C5F\" \"#167B77\" \"#5CA687\" \"#B4CAAF\" \"#FDF5F3\" \"#E6B6A2\"\n",
       " [8] \"#D2776A\" \"#AC3F60\" \"#741A5A\" \"#340D35\""
      ]
     },
     "metadata": {},
     "output_type": "display_data"
    }
   ],
   "source": [
    "paletteer_c(package = \"pals\", palette = \"ocean.curl\", n = 11)"
   ]
  },
  {
   "cell_type": "code",
   "execution_count": 15,
   "metadata": {
    "scrolled": true
   },
   "outputs": [],
   "source": [
    "#spiro(draw_fills = F,\n",
    "#  fixed_radius = 800,\n",
    "#  cycling_radius = 677,\n",
    "#  pen_radius = 805,\n",
    "#  color_groups = 10,\n",
    "# color_cycles = 10, windings = 677*2,\n",
    "#  points_per_polygon = 30,\n",
    "#  colors = paletteer_c(package = \"pals\", palette = \"ocean.curl\", n = 100)[81:90])"
   ]
  },
  {
   "cell_type": "code",
   "execution_count": 11,
   "metadata": {},
   "outputs": [],
   "source": [
    "#spiro(file = \"wrapper.svg\",\n",
    "#  fixed_radius = 800,\n",
    "#  cycling_radius = 677,\n",
    "#  pen_radius = 805,\n",
    "#  color_groups = 10,\n",
    "#  color_cycles = 10, windings = 677*2,\n",
    "#  points_per_polygon = 30,\n",
    "#  colors = paletteer_c(package = \"ggthemes\", palette = \"Gray\", n = 100)[91:100])"
   ]
  },
  {
   "cell_type": "code",
   "execution_count": 12,
   "metadata": {},
   "outputs": [],
   "source": [
    "base_colors = c(\"#FFF2B8\", \"#FFE49C\", \"#ECCA90\")"
   ]
  },
  {
   "cell_type": "code",
   "execution_count": 14,
   "metadata": {},
   "outputs": [
    {
     "name": "stderr",
     "output_type": "stream",
     "text": [
      "Adding missing grouping variables: `color_cycle_id`, `color_id`\n",
      "Warning message in .f(color_cycle_id = .l[[1L]][[1L]], color_id = .l[[2L]][[1L]], :\n",
      "“\"color_cycle_id\" is not a graphical parameter”Warning message in .f(color_cycle_id = .l[[1L]][[1L]], color_id = .l[[2L]][[1L]], :\n",
      "“\"color_id\" is not a graphical parameter”"
     ]
    }
   ],
   "source": [
    "dance = spiro(\n",
    "  fixed_radius = 121,\n",
    "  cycling_radius = 100,\n",
    "  pen_radius = 13,\n",
    "  color_groups = 1,\n",
    "  color_cycles = 1,\n",
    "  points_per_polygon = 200,\n",
    "  colors = \"black\"\n",
    "  ) %>% image_scale(scale = 0.15)"
   ]
  },
  {
   "cell_type": "code",
   "execution_count": 11,
   "metadata": {},
   "outputs": [
    {
     "name": "stderr",
     "output_type": "stream",
     "text": [
      "Adding missing grouping variables: `color_cycle_id`, `color_id`\n",
      "Warning message in .f(color_cycle_id = .l[[1L]][[1L]], color_id = .l[[2L]][[1L]], :\n",
      "“\"color_cycle_id\" is not a graphical parameter”Warning message in .f(color_cycle_id = .l[[1L]][[1L]], color_id = .l[[2L]][[1L]], :\n",
      "“\"color_id\" is not a graphical parameter”"
     ]
    }
   ],
   "source": [
    "indie = spiro(\n",
    "  fixed_radius = 121,\n",
    "  cycling_radius = 20,\n",
    "  pen_radius = 80,\n",
    "  color_groups = 1,\n",
    "  color_cycles = 1,\n",
    "  points_per_polygon = 10000,\n",
    "  colors = \"black\"\n",
    "  ) %>% image_scale(scale = 0.15)"
   ]
  },
  {
   "cell_type": "code",
   "execution_count": 76,
   "metadata": {},
   "outputs": [
    {
     "name": "stderr",
     "output_type": "stream",
     "text": [
      "Adding missing grouping variables: `color_cycle_id`, `color_id`\n",
      "Warning message in .f(color_cycle_id = .l[[1L]][[1L]], color_id = .l[[2L]][[1L]], :\n",
      "“\"color_cycle_id\" is not a graphical parameter”Warning message in .f(color_cycle_id = .l[[1L]][[1L]], color_id = .l[[2L]][[1L]], :\n",
      "“\"color_id\" is not a graphical parameter”"
     ]
    }
   ],
   "source": [
    "hiphop  = spiro(\n",
    "  fixed_radius = 121,\n",
    "  cycling_radius = 50,\n",
    "  pen_radius = 80,\n",
    "  color_groups = 1,\n",
    "  color_cycles = 1,\n",
    "  points_per_polygon = 200,\n",
    "  colors = \"black\"\n",
    "  ) %>% image_scale(scale = 0.15)"
   ]
  },
  {
   "cell_type": "code",
   "execution_count": 10,
   "metadata": {},
   "outputs": [
    {
     "name": "stderr",
     "output_type": "stream",
     "text": [
      "Adding missing grouping variables: `color_cycle_id`, `color_id`\n",
      "Warning message in .f(color_cycle_id = .l[[1L]][[1L]], color_id = .l[[2L]][[1L]], :\n",
      "“\"color_cycle_id\" is not a graphical parameter”Warning message in .f(color_cycle_id = .l[[1L]][[1L]], color_id = .l[[2L]][[1L]], :\n",
      "“\"color_id\" is not a graphical parameter”"
     ]
    }
   ],
   "source": [
    "soul = spiro(\n",
    "  fixed_radius = 121,\n",
    "  cycling_radius = 80,\n",
    "  pen_radius = 50,\n",
    "  color_groups = 1,\n",
    "  color_cycles = 1,\n",
    "  points_per_polygon = 500,\n",
    "  colors = \"black\"\n",
    "  ) %>% image_scale(scale = 0.15)"
   ]
  },
  {
   "cell_type": "code",
   "execution_count": 9,
   "metadata": {},
   "outputs": [
    {
     "name": "stderr",
     "output_type": "stream",
     "text": [
      "Adding missing grouping variables: `color_cycle_id`, `color_id`\n",
      "Warning message in .f(color_cycle_id = .l[[1L]][[1L]], color_id = .l[[2L]][[1L]], :\n",
      "“\"color_cycle_id\" is not a graphical parameter”Warning message in .f(color_cycle_id = .l[[1L]][[1L]], color_id = .l[[2L]][[1L]], :\n",
      "“\"color_id\" is not a graphical parameter”"
     ]
    }
   ],
   "source": [
    "pop = spiro(\n",
    "  fixed_radius = 121,\n",
    "  cycling_radius = 18,\n",
    "  pen_radius = 95,\n",
    "  color_groups = 1,\n",
    "  color_cycles = 1,\n",
    "  points_per_polygon = 180,\n",
    "  colors = \"black\"\n",
    "  ) %>% image_scale(scale = 0.15)\n"
   ]
  },
  {
   "cell_type": "code",
   "execution_count": 35,
   "metadata": {},
   "outputs": [
    {
     "name": "stderr",
     "output_type": "stream",
     "text": [
      "Adding missing grouping variables: `color_cycle_id`, `color_id`\n",
      "Warning message in .f(color_cycle_id = .l[[1L]][[1L]], color_id = .l[[2L]][[1L]], :\n",
      "“\"color_cycle_id\" is not a graphical parameter”Warning message in .f(color_cycle_id = .l[[1L]][[1L]], color_id = .l[[2L]][[1L]], :\n",
      "“\"color_id\" is not a graphical parameter”Adding missing grouping variables: `color_cycle_id`, `color_id`\n",
      "Warning message in .f(color_cycle_id = .l[[1L]][[1L]], color_id = .l[[2L]][[1L]], :\n",
      "“\"color_cycle_id\" is not a graphical parameter”Warning message in .f(color_cycle_id = .l[[1L]][[1L]], color_id = .l[[2L]][[1L]], :\n",
      "“\"color_id\" is not a graphical parameter”Adding missing grouping variables: `color_cycle_id`, `color_id`\n",
      "Warning message in .f(color_cycle_id = .l[[1L]][[1L]], color_id = .l[[2L]][[1L]], :\n",
      "“\"color_cycle_id\" is not a graphical parameter”Warning message in .f(color_cycle_id = .l[[1L]][[1L]], color_id = .l[[2L]][[1L]], :\n",
      "“\"color_id\" is not a graphical parameter”Adding missing grouping variables: `color_cycle_id`, `color_id`\n",
      "Warning message in .f(color_cycle_id = .l[[1L]][[1L]], color_id = .l[[2L]][[1L]], :\n",
      "“\"color_cycle_id\" is not a graphical parameter”Warning message in .f(color_cycle_id = .l[[1L]][[1L]], color_id = .l[[2L]][[1L]], :\n",
      "“\"color_id\" is not a graphical parameter”Adding missing grouping variables: `color_cycle_id`, `color_id`\n",
      "Warning message in .f(color_cycle_id = .l[[1L]][[1L]], color_id = .l[[2L]][[1L]], :\n",
      "“\"color_cycle_id\" is not a graphical parameter”Warning message in .f(color_cycle_id = .l[[1L]][[1L]], color_id = .l[[2L]][[1L]], :\n",
      "“\"color_id\" is not a graphical parameter”Adding missing grouping variables: `color_cycle_id`, `color_id`\n",
      "Warning message in .f(color_cycle_id = .l[[1L]][[1L]], color_id = .l[[2L]][[1L]], :\n",
      "“\"color_cycle_id\" is not a graphical parameter”Warning message in .f(color_cycle_id = .l[[1L]][[1L]], color_id = .l[[2L]][[1L]], :\n",
      "“\"color_id\" is not a graphical parameter”Adding missing grouping variables: `color_cycle_id`, `color_id`\n",
      "Warning message in .f(color_cycle_id = .l[[1L]][[1L]], color_id = .l[[2L]][[1L]], :\n",
      "“\"color_cycle_id\" is not a graphical parameter”Warning message in .f(color_cycle_id = .l[[1L]][[1L]], color_id = .l[[2L]][[1L]], :\n",
      "“\"color_id\" is not a graphical parameter”Adding missing grouping variables: `color_cycle_id`, `color_id`\n",
      "Warning message in .f(color_cycle_id = .l[[1L]][[1L]], color_id = .l[[2L]][[1L]], :\n",
      "“\"color_cycle_id\" is not a graphical parameter”Warning message in .f(color_cycle_id = .l[[1L]][[1L]], color_id = .l[[2L]][[1L]], :\n",
      "“\"color_id\" is not a graphical parameter”Adding missing grouping variables: `color_cycle_id`, `color_id`\n",
      "Warning message in .f(color_cycle_id = .l[[1L]][[1L]], color_id = .l[[2L]][[1L]], :\n",
      "“\"color_cycle_id\" is not a graphical parameter”Warning message in .f(color_cycle_id = .l[[1L]][[1L]], color_id = .l[[2L]][[1L]], :\n",
      "“\"color_id\" is not a graphical parameter”Adding missing grouping variables: `color_cycle_id`, `color_id`\n",
      "Warning message in .f(color_cycle_id = .l[[1L]][[1L]], color_id = .l[[2L]][[1L]], :\n",
      "“\"color_cycle_id\" is not a graphical parameter”Warning message in .f(color_cycle_id = .l[[1L]][[1L]], color_id = .l[[2L]][[1L]], :\n",
      "“\"color_id\" is not a graphical parameter”"
     ]
    }
   ],
   "source": [
    "t = 0.8\n",
    "l = '#C0C0C0'\n",
    "w = 1\n",
    "c = paletteer_c(package = \"pals\", palette = \"ocean.curl\", n = 100)[50]\n",
    "\n",
    "d <- spiro(transparency = t,\n",
    "  fixed_radius = 3,\n",
    "  cycling_radius = 1 ,\n",
    "  pen_radius = 2,\n",
    "colors = c\n",
    ")  %>% add_lines(\n",
    "    colors = l,\n",
    "    line_width = w) %>% image_scale(scale = 0.8)\n",
    "\n",
    "d2 <- spiro(transparency = t, rotation = 12/180*pi,\n",
    "  fixed_radius = 3,\n",
    "  cycling_radius = 1 ,\n",
    "  pen_radius = 2,\n",
    "    colors = c\n",
    ") %>% add_lines(\n",
    "    colors = l,\n",
    "    line_width = w) %>% image_scale(scale = 0.8)\n",
    "\n",
    "d3 <- spiro(transparency = t, rotation = 12/180*pi*2,\n",
    "  fixed_radius = 3,\n",
    "  cycling_radius = 1 ,\n",
    "  pen_radius = 2,\n",
    "    colors = c\n",
    ") %>% add_lines(\n",
    "    colors = l,\n",
    "    line_width = w) %>% image_scale(scale = 0.8)\n",
    "\n",
    "d4 <- spiro(transparency = t, rotation = 12/180*pi*3,\n",
    "  fixed_radius = 3,\n",
    "  cycling_radius = 1 ,\n",
    "  pen_radius = 2,\n",
    "    colors = c\n",
    ") %>% add_lines(\n",
    "    colors = l,\n",
    "    line_width = w) %>% image_scale(scale = 0.8)\n",
    "\n",
    "d5 <- spiro(transparency = t, rotation = 12/180*pi*4,\n",
    "  fixed_radius = 3,\n",
    "  cycling_radius = 1 ,\n",
    "  pen_radius = 2,\n",
    "    colors = c\n",
    ") %>% add_lines(\n",
    "    colors = l,\n",
    "    line_width = w) %>% image_scale(scale = 0.8)\n",
    "\n",
    "d6 <- spiro(transparency = t, rotation = 12/180*pi*5,\n",
    "  fixed_radius = 3,\n",
    "  cycling_radius = 1 ,\n",
    "  pen_radius = 2,\n",
    "    colors = c\n",
    ") %>% add_lines(\n",
    "    colors = l,\n",
    "    line_width = w) %>% image_scale(scale = 0.8)\n",
    "\n",
    "d7 <- spiro(transparency = t, rotation = 12/180*pi*6,\n",
    "  fixed_radius = 3,\n",
    "  cycling_radius = 1 ,\n",
    "  pen_radius = 2,\n",
    "    colors = c\n",
    ") %>% add_lines(\n",
    "    colors = l,\n",
    "    line_width = w) %>% image_scale(scale = 0.8)\n",
    "\n",
    "d8 <- spiro( transparency = t, rotation = 12/180*pi*7,\n",
    "  fixed_radius = 3,\n",
    "  cycling_radius = 1 ,\n",
    "  pen_radius = 2,\n",
    "    colors = c\n",
    ") %>% add_lines(\n",
    "    colors = l,\n",
    "    line_width = w) %>% image_scale(scale = 0.8)\n",
    "\n",
    "d9 <- spiro( transparency = t, rotation = 12/180*pi*78,\n",
    "  fixed_radius = 3,\n",
    "  cycling_radius = 1 ,\n",
    "  pen_radius = 2,\n",
    "    colors = c\n",
    ") %>% add_lines(\n",
    "    colors = l,\n",
    "    line_width = w) %>% image_scale(scale = 0.8)\n",
    "\n",
    "d10 <- spiro(transparency = t, rotation = 12/180*pi*9,\n",
    "  fixed_radius = 3,\n",
    "  cycling_radius = 1 ,\n",
    "  pen_radius = 2,\n",
    "    colors = c\n",
    ") %>% add_lines(\n",
    "    colors = l,\n",
    "    line_width = w) %>% image_scale(scale = 0.8)\n",
    "\n",
    "#c(d,d2,d3,d4,d5,d6,d7,d8,d9,d10) %>% image_merge(output = \"test_icing10.svg\")\n",
    "d"
   ]
  },
  {
   "cell_type": "code",
   "execution_count": 41,
   "metadata": {},
   "outputs": [],
   "source": [
    "c(d,d2,d3,soul) %>% image_merge(output = \"test_icing.svg\")"
   ]
  },
  {
   "cell_type": "code",
   "execution_count": 19,
   "metadata": {},
   "outputs": [
    {
     "name": "stderr",
     "output_type": "stream",
     "text": [
      "Installing package into ‘/home/thedatacurious/R/x86_64-pc-linux-gnu-library/3.6’\n",
      "(as ‘lib’ is unspecified)\n",
      "also installing the dependencies ‘sys’, ‘askpass’, ‘curl’, ‘openssl’, ‘httr’, ‘pack’\n",
      "\n"
     ]
    },
    {
     "data": {
      "image/png": "[encoded data removed]",
      "text/plain": [
       "plot without title"
      ]
     },
     "metadata": {},
     "output_type": "display_data"
    }
   ],
   "source": [
    "install.packages(\"swatches\")\n",
    "library(swatches)\n",
    "c = paletteer_c(package = \"pals\", palette = \"ocean.curl\", n = 100)\n",
    "show_palette(c)"
   ]
  },
  {
   "cell_type": "code",
   "execution_count": 23,
   "metadata": {},
   "outputs": [
    {
     "data": {
      "text/html": [
       "<strong>png:</strong> 2"
      ],
      "text/latex": [
       "\\textbf{png:} 2"
      ],
      "text/markdown": [
       "**png:** 2"
      ],
      "text/plain": [
       "png \n",
       "  2 "
      ]
     },
     "metadata": {},
     "output_type": "display_data"
    }
   ],
   "source": [
    "svg(\"swatch.png\")\n",
    "show_palette(c)\n",
    "dev.off()"
   ]
  },
  {
   "cell_type": "code",
   "execution_count": null,
   "metadata": {},
   "outputs": [],
   "source": []
  }
 ],
 "metadata": {
  "kernelspec": {
   "display_name": "R",
   "language": "R",
   "name": "ir"
  },
  "language_info": {
   "codemirror_mode": "r",
   "file_extension": ".r",
   "mimetype": "text/x-r-source",
   "name": "R",
   "pygments_lexer": "r",
   "version": "3.6.1"
  }
 },
 "nbformat": 4,
 "nbformat_minor": 4
}
